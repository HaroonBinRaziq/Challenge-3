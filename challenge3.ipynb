{
 "cells": [
  {
   "cell_type": "code",
   "execution_count": 1,
   "metadata": {},
   "outputs": [],
   "source": [
    "def sum_list(lst):\n",
    "    sumlist = []\n",
    "    element = 0\n",
    "    for i in range(0,len(lst)):\n",
    "        element += lst[i]\n",
    "    sumlist.append(element)\n",
    "    for i in range(0,len(lst)):\n",
    "        element -= lst[i]\n",
    "        sumlist.append(element)\n",
    "    return sumlist "
   ]
  },
  {
   "cell_type": "code",
   "execution_count": 2,
   "metadata": {},
   "outputs": [
    {
     "name": "stdout",
     "output_type": "stream",
     "text": [
      "[21, 20, 18, 15, 11, 6, 0]\n"
     ]
    }
   ],
   "source": [
    "Is = [1,2,3,4,5,6]\n",
    "print(sum_list(Is))"
   ]
  },
  {
   "cell_type": "code",
   "execution_count": null,
   "metadata": {},
   "outputs": [],
   "source": []
  }
 ],
 "metadata": {
  "kernelspec": {
   "display_name": "Python 3",
   "language": "python",
   "name": "python3"
  },
  "language_info": {
   "codemirror_mode": {
    "name": "ipython",
    "version": 3
   },
   "file_extension": ".py",
   "mimetype": "text/x-python",
   "name": "python",
   "nbconvert_exporter": "python",
   "pygments_lexer": "ipython3",
   "version": "3.6.7"
  }
 },
 "nbformat": 4,
 "nbformat_minor": 2
}
